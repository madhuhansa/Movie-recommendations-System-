{
 "cells": [
  {
   "cell_type": "markdown",
   "id": "4f3ee606",
   "metadata": {},
   "source": [
    "# <span style=\"color:#cd0057; font-weight:bold\">⬇️Step 1: Import Essential Libraries</span>\n",
    "<hr>"
   ]
  },
  {
   "cell_type": "code",
   "execution_count": 1,
   "id": "232af68d",
   "metadata": {},
   "outputs": [],
   "source": [
    "import numpy as np              \n",
    "import pandas as pd              \n",
    "import matplotlib.pyplot as plt  \n",
    "import seaborn as sns "
   ]
  },
  {
   "cell_type": "markdown",
   "id": "d9f9de5d",
   "metadata": {},
   "source": [
    "# <span style=\"color:#cd0057; font-weight:bold\">🚚Step 2: Load Dataset</span>\n",
    "<hr>"
   ]
  },
  {
   "cell_type": "code",
   "execution_count": 2,
   "id": "f7ca79df",
   "metadata": {},
   "outputs": [
    {
     "data": {
      "text/html": [
       "<div>\n",
       "<style scoped>\n",
       "    .dataframe tbody tr th:only-of-type {\n",
       "        vertical-align: middle;\n",
       "    }\n",
       "\n",
       "    .dataframe tbody tr th {\n",
       "        vertical-align: top;\n",
       "    }\n",
       "\n",
       "    .dataframe thead th {\n",
       "        text-align: right;\n",
       "    }\n",
       "</style>\n",
       "<table border=\"1\" class=\"dataframe\">\n",
       "  <thead>\n",
       "    <tr style=\"text-align: right;\">\n",
       "      <th></th>\n",
       "      <th>id</th>\n",
       "      <th>title</th>\n",
       "      <th>genre</th>\n",
       "      <th>original_language</th>\n",
       "      <th>overview</th>\n",
       "      <th>popularity</th>\n",
       "      <th>release_date</th>\n",
       "      <th>vote_average</th>\n",
       "      <th>vote_count</th>\n",
       "    </tr>\n",
       "  </thead>\n",
       "  <tbody>\n",
       "    <tr>\n",
       "      <th>0</th>\n",
       "      <td>278</td>\n",
       "      <td>The Shawshank Redemption</td>\n",
       "      <td>Drama,Crime</td>\n",
       "      <td>en</td>\n",
       "      <td>Framed in the 1940s for the double murder of h...</td>\n",
       "      <td>94.075</td>\n",
       "      <td>1994-09-23</td>\n",
       "      <td>8.7</td>\n",
       "      <td>21862</td>\n",
       "    </tr>\n",
       "    <tr>\n",
       "      <th>1</th>\n",
       "      <td>19404</td>\n",
       "      <td>Dilwale Dulhania Le Jayenge</td>\n",
       "      <td>Comedy,Drama,Romance</td>\n",
       "      <td>hi</td>\n",
       "      <td>Raj is a rich, carefree, happy-go-lucky second...</td>\n",
       "      <td>25.408</td>\n",
       "      <td>1995-10-19</td>\n",
       "      <td>8.7</td>\n",
       "      <td>3731</td>\n",
       "    </tr>\n",
       "    <tr>\n",
       "      <th>2</th>\n",
       "      <td>238</td>\n",
       "      <td>The Godfather</td>\n",
       "      <td>Drama,Crime</td>\n",
       "      <td>en</td>\n",
       "      <td>Spanning the years 1945 to 1955, a chronicle o...</td>\n",
       "      <td>90.585</td>\n",
       "      <td>1972-03-14</td>\n",
       "      <td>8.7</td>\n",
       "      <td>16280</td>\n",
       "    </tr>\n",
       "    <tr>\n",
       "      <th>3</th>\n",
       "      <td>424</td>\n",
       "      <td>Schindler's List</td>\n",
       "      <td>Drama,History,War</td>\n",
       "      <td>en</td>\n",
       "      <td>The true story of how businessman Oskar Schind...</td>\n",
       "      <td>44.761</td>\n",
       "      <td>1993-12-15</td>\n",
       "      <td>8.6</td>\n",
       "      <td>12959</td>\n",
       "    </tr>\n",
       "    <tr>\n",
       "      <th>4</th>\n",
       "      <td>240</td>\n",
       "      <td>The Godfather: Part II</td>\n",
       "      <td>Drama,Crime</td>\n",
       "      <td>en</td>\n",
       "      <td>In the continuing saga of the Corleone crime f...</td>\n",
       "      <td>57.749</td>\n",
       "      <td>1974-12-20</td>\n",
       "      <td>8.6</td>\n",
       "      <td>9811</td>\n",
       "    </tr>\n",
       "  </tbody>\n",
       "</table>\n",
       "</div>"
      ],
      "text/plain": [
       "      id                        title                 genre original_language  \\\n",
       "0    278     The Shawshank Redemption           Drama,Crime                en   \n",
       "1  19404  Dilwale Dulhania Le Jayenge  Comedy,Drama,Romance                hi   \n",
       "2    238                The Godfather           Drama,Crime                en   \n",
       "3    424             Schindler's List     Drama,History,War                en   \n",
       "4    240       The Godfather: Part II           Drama,Crime                en   \n",
       "\n",
       "                                            overview  popularity release_date  \\\n",
       "0  Framed in the 1940s for the double murder of h...      94.075   1994-09-23   \n",
       "1  Raj is a rich, carefree, happy-go-lucky second...      25.408   1995-10-19   \n",
       "2  Spanning the years 1945 to 1955, a chronicle o...      90.585   1972-03-14   \n",
       "3  The true story of how businessman Oskar Schind...      44.761   1993-12-15   \n",
       "4  In the continuing saga of the Corleone crime f...      57.749   1974-12-20   \n",
       "\n",
       "   vote_average  vote_count  \n",
       "0           8.7       21862  \n",
       "1           8.7        3731  \n",
       "2           8.7       16280  \n",
       "3           8.6       12959  \n",
       "4           8.6        9811  "
      ]
     },
     "execution_count": 2,
     "metadata": {},
     "output_type": "execute_result"
    }
   ],
   "source": [
    "df = pd.read_csv('../data/top10K-TMDB-movies.csv')\n",
    "df.head()"
   ]
  },
  {
   "cell_type": "markdown",
   "id": "c5f6330c",
   "metadata": {},
   "source": [
    "# <span style=\"color:#cd0057; font-weight:bold\">🩺Step03: Understand Data frame</span>\n",
    "<hr>"
   ]
  },
  {
   "cell_type": "code",
   "execution_count": 3,
   "id": "8a44e411",
   "metadata": {},
   "outputs": [
    {
     "data": {
      "text/plain": [
       "(10000, 9)"
      ]
     },
     "execution_count": 3,
     "metadata": {},
     "output_type": "execute_result"
    }
   ],
   "source": [
    "df.shape"
   ]
  },
  {
   "cell_type": "code",
   "execution_count": 4,
   "id": "6b3523ad",
   "metadata": {},
   "outputs": [
    {
     "data": {
      "text/plain": [
       "Index(['id', 'title', 'genre', 'original_language', 'overview', 'popularity',\n",
       "       'release_date', 'vote_average', 'vote_count'],\n",
       "      dtype='object')"
      ]
     },
     "execution_count": 4,
     "metadata": {},
     "output_type": "execute_result"
    }
   ],
   "source": [
    "df.columns"
   ]
  },
  {
   "cell_type": "markdown",
   "id": "20f1d627",
   "metadata": {},
   "source": [
    "### <span style=\"color:#0076cd; font-weight:bold\">Understand Missing values</span>"
   ]
  },
  {
   "cell_type": "code",
   "execution_count": 5,
   "id": "19a41c40",
   "metadata": {},
   "outputs": [
    {
     "data": {
      "text/plain": [
       "id                    0\n",
       "title                 0\n",
       "genre                 3\n",
       "original_language     0\n",
       "overview             13\n",
       "popularity            0\n",
       "release_date          0\n",
       "vote_average          0\n",
       "vote_count            0\n",
       "dtype: int64"
      ]
     },
     "execution_count": 5,
     "metadata": {},
     "output_type": "execute_result"
    }
   ],
   "source": [
    "df.isnull().sum()        "
   ]
  },
  {
   "cell_type": "markdown",
   "id": "91eb213c",
   "metadata": {},
   "source": [
    "### <span style=\"color:#0076cd; font-weight:bold\">Find Duplicates</span>"
   ]
  },
  {
   "cell_type": "code",
   "execution_count": 6,
   "id": "dea304a6",
   "metadata": {},
   "outputs": [
    {
     "data": {
      "text/plain": [
       "0"
      ]
     },
     "execution_count": 6,
     "metadata": {},
     "output_type": "execute_result"
    }
   ],
   "source": [
    "df.duplicated().sum()         "
   ]
  },
  {
   "cell_type": "markdown",
   "id": "77a22830",
   "metadata": {},
   "source": [
    "### <span style=\"color:#0076cd; font-weight:bold\">Understand Object Data</span>"
   ]
  },
  {
   "cell_type": "code",
   "execution_count": 7,
   "id": "17eec20c",
   "metadata": {},
   "outputs": [
    {
     "name": "stdout",
     "output_type": "stream",
     "text": [
      "<class 'pandas.core.frame.DataFrame'>\n",
      "RangeIndex: 10000 entries, 0 to 9999\n",
      "Data columns (total 9 columns):\n",
      " #   Column             Non-Null Count  Dtype  \n",
      "---  ------             --------------  -----  \n",
      " 0   id                 10000 non-null  int64  \n",
      " 1   title              10000 non-null  object \n",
      " 2   genre              9997 non-null   object \n",
      " 3   original_language  10000 non-null  object \n",
      " 4   overview           9987 non-null   object \n",
      " 5   popularity         10000 non-null  float64\n",
      " 6   release_date       10000 non-null  object \n",
      " 7   vote_average       10000 non-null  float64\n",
      " 8   vote_count         10000 non-null  int64  \n",
      "dtypes: float64(2), int64(2), object(5)\n",
      "memory usage: 703.3+ KB\n"
     ]
    }
   ],
   "source": [
    "df.info()"
   ]
  },
  {
   "cell_type": "code",
   "execution_count": 8,
   "id": "beac8918",
   "metadata": {},
   "outputs": [
    {
     "data": {
      "text/plain": [
       "genre\n",
       "Comedy                                    744\n",
       "Drama                                     611\n",
       "Drama,Romance                             290\n",
       "Comedy,Drama                              262\n",
       "Comedy,Romance                            255\n",
       "                                         ... \n",
       "Fantasy,Animation,Romance,Family            1\n",
       "Drama,Thriller,Crime,Western                1\n",
       "Comedy,Drama,Romance,Fantasy,Adventure      1\n",
       "Drama,History,Action                        1\n",
       "Adventure,Fantasy,Action,Drama              1\n",
       "Name: count, Length: 2123, dtype: int64"
      ]
     },
     "execution_count": 8,
     "metadata": {},
     "output_type": "execute_result"
    }
   ],
   "source": [
    "df['genre'].value_counts()"
   ]
  },
  {
   "cell_type": "markdown",
   "id": "a140dbea",
   "metadata": {},
   "source": [
    "# <span style=\"color:#cd0057; font-weight:bold\">❓Step 5: Handle Missing Values</span>\n",
    "<hr>"
   ]
  },
  {
   "cell_type": "code",
   "execution_count": 9,
   "id": "f1a39098",
   "metadata": {},
   "outputs": [
    {
     "data": {
      "text/plain": [
       "(10000, 9)"
      ]
     },
     "execution_count": 9,
     "metadata": {},
     "output_type": "execute_result"
    }
   ],
   "source": [
    "df.shape"
   ]
  },
  {
   "cell_type": "code",
   "execution_count": 10,
   "id": "d4bd44c9",
   "metadata": {},
   "outputs": [
    {
     "data": {
      "text/plain": [
       "(9985, 9)"
      ]
     },
     "execution_count": 10,
     "metadata": {},
     "output_type": "execute_result"
    }
   ],
   "source": [
    "df.dropna(inplace=True)\n",
    "df.shape"
   ]
  },
  {
   "cell_type": "markdown",
   "id": "17c8cf3d",
   "metadata": {},
   "source": [
    "# <span style=\"color:#cd0057; font-weight:bold\">🛠️Step 6: Feature Eng</span>\n",
    "<hr>"
   ]
  },
  {
   "cell_type": "code",
   "execution_count": 11,
   "id": "ee8f4764",
   "metadata": {},
   "outputs": [
    {
     "data": {
      "application/vnd.jupyter.widget-view+json": {
       "model_id": "5f42152a26dd4ca28072086bf4ca442c",
       "version_major": 2,
       "version_minor": 0
      },
      "text/plain": [
       "Batches:   0%|          | 0/313 [00:00<?, ?it/s]"
      ]
     },
     "metadata": {},
     "output_type": "display_data"
    }
   ],
   "source": [
    "from sentence_transformers import SentenceTransformer\n",
    "\n",
    "model = SentenceTransformer('all-MiniLM-L6-v2')\n",
    "\n",
    "overview_texts = df['overview'].fillna('').tolist()\n",
    "vectors = model.encode(overview_texts, show_progress_bar=True)"
   ]
  },
  {
   "cell_type": "code",
   "execution_count": 12,
   "id": "10592487",
   "metadata": {},
   "outputs": [
    {
     "name": "stderr",
     "output_type": "stream",
     "text": [
      "d:\\my web\\python\\Lib\\site-packages\\sklearn\\feature_extraction\\text.py:517: UserWarning: The parameter 'token_pattern' will not be used since 'tokenizer' is not None'\n",
      "  warnings.warn(\n"
     ]
    }
   ],
   "source": [
    "from sklearn.feature_extraction.text import CountVectorizer\n",
    "\n",
    "# Define a named tokenizer function instead of using lambda\n",
    "def custom_tokenizer(x):\n",
    "    return x.split(', ')\n",
    "\n",
    "# Use the named function in CountVectorizer\n",
    "count_vectorizer = CountVectorizer(tokenizer=custom_tokenizer)\n",
    "genre_matrix = count_vectorizer.fit_transform(df['genre'].fillna(''))"
   ]
  },
  {
   "cell_type": "code",
   "execution_count": 13,
   "id": "bea6456f",
   "metadata": {},
   "outputs": [],
   "source": [
    "from sklearn.preprocessing import OneHotEncoder\n",
    "\n",
    "lang_encoder = OneHotEncoder(sparse_output=False)\n",
    "lang_matrix = lang_encoder.fit_transform(df[['original_language']])\n",
    "\n"
   ]
  },
  {
   "cell_type": "code",
   "execution_count": 14,
   "id": "a0e28bd6",
   "metadata": {},
   "outputs": [],
   "source": [
    "from sklearn.preprocessing import MinMaxScaler\n",
    "\n",
    "scaler = MinMaxScaler()\n",
    "num_matrix = scaler.fit_transform(df[['vote_average', 'popularity', 'vote_count']])"
   ]
  },
  {
   "cell_type": "code",
   "execution_count": 15,
   "id": "2c147269",
   "metadata": {},
   "outputs": [],
   "source": [
    "import numpy as np\n",
    "from scipy.sparse import hstack\n",
    "\n",
    "# Combine all features (overview is sparse, so use hstack)\n",
    "final_matrix = hstack([vectors, genre_matrix, lang_matrix, num_matrix])\n"
   ]
  },
  {
   "cell_type": "code",
   "execution_count": 16,
   "id": "c0b269a8",
   "metadata": {},
   "outputs": [
    {
     "data": {
      "text/plain": [
       "Index(['id', 'title', 'genre', 'original_language', 'overview', 'popularity',\n",
       "       'release_date', 'vote_average', 'vote_count'],\n",
       "      dtype='object')"
      ]
     },
     "execution_count": 16,
     "metadata": {},
     "output_type": "execute_result"
    }
   ],
   "source": [
    "df.columns"
   ]
  },
  {
   "cell_type": "code",
   "execution_count": 17,
   "id": "363d00bb",
   "metadata": {},
   "outputs": [
    {
     "name": "stdout",
     "output_type": "stream",
     "text": [
      "443     Guardians of the Galaxy\n",
      "969                    Iron Man\n",
      "33                   Fight Club\n",
      "374            The Tomorrow War\n",
      "1045           Edge of Tomorrow\n",
      "Name: title, dtype: object\n"
     ]
    }
   ],
   "source": [
    "import numpy as np\n",
    "from sklearn.metrics.pairwise import cosine_similarity\n",
    "\n",
    "# Convert once outside function if possible, to avoid repeated conversion\n",
    "final_matrix_csr = final_matrix.tocsr()\n",
    "\n",
    "def recommend_from_three_movies(input_titles):\n",
    "    input_titles = [title.lower() for title in input_titles]\n",
    "    movie_index = pd.Series(df.index, index=df['title'].str.lower())\n",
    "\n",
    "    selected_indexes = [movie_index[title] for title in input_titles if title in movie_index]\n",
    "    if len(selected_indexes) < 1:\n",
    "        return \"None of the movies were found.\"\n",
    "\n",
    "    selected_vectors = final_matrix_csr[selected_indexes]\n",
    "\n",
    "    avg_vector = selected_vectors.mean(axis=0)\n",
    "\n",
    "    # Convert avg_vector to array for cosine similarity\n",
    "    if hasattr(avg_vector, \"toarray\"):\n",
    "        avg_vector = avg_vector.toarray()\n",
    "    else:\n",
    "        avg_vector = np.asarray(avg_vector)\n",
    "\n",
    "    similarities = cosine_similarity(avg_vector, final_matrix_csr).flatten()\n",
    "\n",
    "    similar_indices = similarities.argsort()[::-1]\n",
    "    recommended_indices = [i for i in similar_indices if i not in selected_indexes][:5]\n",
    "\n",
    "    return df['title'].iloc[recommended_indices]\n",
    "\n",
    "# Example usage:\n",
    "print(recommend_from_three_movies(['Inception', 'Interstellar', 'The Matrix']))\n"
   ]
  },
  {
   "cell_type": "code",
   "execution_count": 18,
   "id": "c6b3eef4",
   "metadata": {},
   "outputs": [
    {
     "name": "stdout",
     "output_type": "stream",
     "text": [
      "2975    Pirates of Silicon Valley\n",
      "2336           The Great Debaters\n",
      "897                The Blind Side\n",
      "3409                 The Believer\n",
      "33                     Fight Club\n",
      "Name: title, dtype: object\n"
     ]
    }
   ],
   "source": [
    "print(recommend_from_three_movies(['Moneyball', 'The Social Network', 'The Big Short']))"
   ]
  },
  {
   "cell_type": "code",
   "execution_count": null,
   "id": "4ea43232",
   "metadata": {},
   "outputs": [],
   "source": [
    "import joblib\n",
    "import scipy.sparse\n",
    "\n",
    "# Save vectorizers and scalers\n",
    "joblib.dump(count_vectorizer, 'count_vectorizer.pkl')\n",
    "joblib.dump(lang_encoder, 'lang_encoder.pkl')\n",
    "joblib.dump(scaler, 'minmax_scaler.pkl')\n",
    "\n",
    "# Save overview embeddings (dense)\n",
    "np.save('overview_vectors.npy', vectors)\n",
    "\n",
    "# Save final_matrix (sparse)\n",
    "scipy.sparse.save_npz('final_matrix.npz', final_matrix)\n",
    "\n",
    "# Save the dataframe\n",
    "df.to_csv('movies_df.csv', index=False)\n"
   ]
  }
 ],
 "metadata": {
  "kernelspec": {
   "display_name": "Python 3",
   "language": "python",
   "name": "python3"
  },
  "language_info": {
   "codemirror_mode": {
    "name": "ipython",
    "version": 3
   },
   "file_extension": ".py",
   "mimetype": "text/x-python",
   "name": "python",
   "nbconvert_exporter": "python",
   "pygments_lexer": "ipython3",
   "version": "3.11.4"
  }
 },
 "nbformat": 4,
 "nbformat_minor": 5
}
